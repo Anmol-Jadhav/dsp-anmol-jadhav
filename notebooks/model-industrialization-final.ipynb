{
 "cells": [
  {
   "cell_type": "code",
   "execution_count": 29,
   "id": "5b28bca9-b103-4426-8769-0fdc07bf17c6",
   "metadata": {},
   "outputs": [
    {
     "name": "stdout",
     "output_type": "stream",
     "text": [
      "{'rmse': 0.24}\n"
     ]
    }
   ],
   "source": [
    "import pandas as pd\n",
    "from house_prices.train import build_model\n",
    "\n",
    "training_data_df = pd.read_csv(r'D:/SEM2/DSP//train.csv')\n",
    "model_performance_dict = build_model(training_data_df)\n",
    "print(model_performance_dict)"
   ]
  },
  {
   "cell_type": "code",
   "execution_count": 31,
   "id": "d718f283-61b1-41f2-8c17-ca7a4e493800",
   "metadata": {},
   "outputs": [
    {
     "data": {
      "text/plain": [
       "array([207522.923842  , 256212.15080608, 209289.58414502, ...,\n",
       "       213491.28674897, 139153.52776153, 142278.06127603])"
      ]
     },
     "execution_count": 31,
     "metadata": {},
     "output_type": "execute_result"
    }
   ],
   "source": [
    "import pandas as pd\n",
    "from house_prices.inference import make_predictions\n",
    "\n",
    "user_data_df = pd.read_csv(r'D:/SEM2/DSP//train.csv')\n",
    "predictions = make_predictions(user_data_df)\n",
    "predictions"
   ]
  },
  {
   "cell_type": "code",
   "execution_count": null,
   "id": "c3b1537f-376b-4c42-82a0-6c42b1da023c",
   "metadata": {},
   "outputs": [],
   "source": []
  }
 ],
 "metadata": {
  "kernelspec": {
   "display_name": "Python 3 (ipykernel)",
   "language": "python",
   "name": "python3"
  },
  "language_info": {
   "codemirror_mode": {
    "name": "ipython",
    "version": 3
   },
   "file_extension": ".py",
   "mimetype": "text/x-python",
   "name": "python",
   "nbconvert_exporter": "python",
   "pygments_lexer": "ipython3",
   "version": "3.12.4"
  }
 },
 "nbformat": 4,
 "nbformat_minor": 5
}
