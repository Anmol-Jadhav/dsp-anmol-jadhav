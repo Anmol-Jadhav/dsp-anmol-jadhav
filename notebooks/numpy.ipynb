{
 "cells": [
  {
   "cell_type": "code",
   "execution_count": 1,
   "id": "48064fe8-e664-4688-b723-7a1c66eb760b",
   "metadata": {},
   "outputs": [
    {
     "data": {
      "text/plain": [
       "array([[31, 35, 59],\n",
       "       [27, 76, 78],\n",
       "       [44, 82, 27],\n",
       "       [79, 15, 95],\n",
       "       [32, 80, 67],\n",
       "       [ 8, 91, 32],\n",
       "       [97, 59, 64],\n",
       "       [ 4, 82, 18],\n",
       "       [58, 19, 66],\n",
       "       [45, 99, 85]])"
      ]
     },
     "metadata": {},
     "output_type": "display_data"
    }
   ],
   "source": [
    "import numpy as np\n",
    "from IPython.display import display\n",
    "\n",
    "# Create a NumPy array with shape (10, 3) filled with random integers between 0 and 100\n",
    "my_array = np.random.randint(0, 100, size=(10, 3))\n",
    "\n",
    "# Display the array\n",
    "display(my_array)\n"
   ]
  }
 ],
 "metadata": {
  "kernelspec": {
   "display_name": "Python 3 (ipykernel)",
   "language": "python",
   "name": "python3"
  },
  "language_info": {
   "codemirror_mode": {
    "name": "ipython",
    "version": 3
   },
   "file_extension": ".py",
   "mimetype": "text/x-python",
   "name": "python",
   "nbconvert_exporter": "python",
   "pygments_lexer": "ipython3",
   "version": "3.12.4"
  }
 },
 "nbformat": 4,
 "nbformat_minor": 5
}
